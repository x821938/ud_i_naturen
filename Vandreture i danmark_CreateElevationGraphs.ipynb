{
 "cells": [
  {
   "cell_type": "markdown",
   "metadata": {},
   "source": [
    "### Traverse all elevation files and generate a graph for each one"
   ]
  },
  {
   "cell_type": "code",
   "execution_count": 1,
   "metadata": {
    "tags": [
     "outputPrepend"
    ]
   },
   "outputs": [
    {
     "output_type": "display_data",
     "data": {
      "text/plain": "<Figure size 432x288 with 0 Axes>"
     },
     "metadata": {}
    }
   ],
   "source": [
    "import glob\n",
    "import pandas as pd\n",
    "import re\n",
    "import matplotlib.pyplot as plt\n",
    "\n",
    "for file in glob.glob('data/elevation*.csv'):\n",
    "    tripId = re.search(\"elevation_(\\d+).csv\",file)[1]\n",
    "\n",
    "    elevationData = pd.read_csv(file)\n",
    "    elevationData.set_index(\"meters\", inplace=True)\n",
    "\n",
    "    plot = elevationData.elevation.plot(grid=True)\n",
    "    plot.figure.savefig(f\"data/elevation_{tripId}.jpg\")\n",
    "    plot.set(xlabel=\"Tripdistance in meters\", ylabel=\"Altitude in meters\")\n",
    "    plt.clf()\n"
   ]
  }
 ],
 "metadata": {
  "language_info": {
   "codemirror_mode": {
    "name": "ipython",
    "version": 3
   },
   "file_extension": ".py",
   "mimetype": "text/x-python",
   "name": "python",
   "nbconvert_exporter": "python",
   "pygments_lexer": "ipython3",
   "version": "3.8.2-final"
  },
  "orig_nbformat": 2,
  "kernelspec": {
   "name": "python38264bitgeoenvconda4962cc3e69614e0fad85cd504ae8a3c4",
   "display_name": "Python 3.8.2 64-bit ('geo_env': conda)"
  }
 },
 "nbformat": 4,
 "nbformat_minor": 2
}