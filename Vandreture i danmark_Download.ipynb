{
 "cells": [
  {
   "cell_type": "markdown",
   "metadata": {},
   "source": [
    "### Functions\n",
    "API documentation is found here: https://naturstyrelsen.dk/udinaturen/om-udinaturen/\n",
    "\n",
    "#### getTrips returns dictionary with the next URL and a pandas dataframe the trip/point-data from this offset+limit"
   ]
  },
  {
   "cell_type": "code",
   "execution_count": 1,
   "metadata": {},
   "outputs": [],
   "source": [
    "import json,urllib.request\n",
    "\n",
    "def getTrips(url):\n",
    "    baseUrl = \"https://admin.udinaturen.dk\"\n",
    "    dataRaw = urllib.request.urlopen(baseUrl + url).read()\n",
    "    dataJson = json.loads(dataRaw)\n",
    "\n",
    "    trips = pd.DataFrame(dataJson[\"objects\"])\n",
    "    trips.set_index(\"facilityid\", inplace=True)\n",
    "    \n",
    "    nexturl = dataJson[\"meta\"][\"next\"]\n",
    "    \n",
    "    return {\"nextUrl\": nexturl, \"trips\": trips}"
   ]
  },
  {
   "cell_type": "markdown",
   "metadata": {},
   "source": [
    "### Fetch online data fra udinaturen... Will take some time\n",
    "Its only allowed to get 1000 entries at a time. I do 500 instead. Therefore we have to traverse all offset+limits"
   ]
  },
  {
   "cell_type": "code",
   "execution_count": 2,
   "metadata": {},
   "outputs": [],
   "source": [
    "import pandas as pd\n",
    "\n",
    "url = (\"/api/v1/facilityread?limit=500&offset=0&format=json\") # All objects\n",
    "\n",
    "tripData = getTrips(url) # Get the first 500 trips\n",
    "allTrips = pd.DataFrame()\n",
    "while url:\n",
    "    allTrips = allTrips.append(tripData[\"trips\"])\n",
    "    url = tripData[\"nextUrl\"]\n",
    "    if url:\n",
    "        tripData = getTrips(url) # Get the next 500 trips, if there are more"
   ]
  },
  {
   "cell_type": "markdown",
   "metadata": {},
   "source": [
    "### Save the data as json for further use"
   ]
  },
  {
   "cell_type": "code",
   "execution_count": 3,
   "metadata": {},
   "outputs": [],
   "source": [
    "with open('data/rawdata.json', 'w', encoding='utf-8') as file:\n",
    "    allTrips.to_json(file, force_ascii=False)"
   ]
  }
 ],
 "metadata": {
  "kernelspec": {
   "display_name": "Python 3.7.4 64-bit ('venv': venv)",
   "language": "python",
   "name": "python37464bitvenvvenv3a1d649327184aeca57e87c7ce6ebf72"
  },
  "language_info": {
   "codemirror_mode": {
    "name": "ipython",
    "version": 3
   },
   "file_extension": ".py",
   "mimetype": "text/x-python",
   "name": "python",
   "nbconvert_exporter": "python",
   "pygments_lexer": "ipython3",
   "version": "3.8.2-final"
  }
 },
 "nbformat": 4,
 "nbformat_minor": 4
}