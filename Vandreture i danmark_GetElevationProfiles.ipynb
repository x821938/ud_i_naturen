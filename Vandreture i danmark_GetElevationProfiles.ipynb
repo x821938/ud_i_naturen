{
 "cells": [
  {
   "cell_type": "markdown",
   "metadata": {},
   "source": [
    "### Load data from GPKG"
   ]
  },
  {
   "cell_type": "code",
   "execution_count": 1,
   "metadata": {},
   "outputs": [],
   "source": [
    "import geopandas\n",
    "import googlemaps\n",
    "import pandas as pd\n",
    "import numpy as np\n",
    "import credentials  # Here is my google api key... you need to put you own in this file.\n",
    "\n",
    "trips=geopandas.read_file(\"data/Ud_I_Naturen.gpkg\", layer='lines')\n",
    "trips[\"wgs84_geometry\"] = trips[\"geometry\"].to_crs(epsg=4326)"
   ]
  },
  {
   "cell_type": "markdown",
   "metadata": {},
   "source": [
    "### Functions"
   ]
  },
  {
   "cell_type": "code",
   "execution_count": 2,
   "metadata": {},
   "outputs": [],
   "source": [
    "# Converts a list of gps points to a dataframe with elevation data\n",
    "def getGoogleElevations(tripPoints, tripLength, wantedPoints):\n",
    "    tripPoints = [(point[1], point[0]) for point in tripPoints]  # Google want lat/lon exhanged in the list\n",
    "    gmaps = googlemaps.Client(key=credentials.googleApiKey)\n",
    "\n",
    "    elevationPoints = gmaps.elevation_along_path(tripPoints, wantedPoints)\n",
    "\n",
    "    elevationPanda = pd.DataFrame(elevationPoints)\n",
    "    locations = pd.DataFrame(elevationPanda.location.to_list())\n",
    "    elevationPanda = elevationPanda.join(locations)\n",
    "    elevationPanda = elevationPanda.drop([\"location\", \"resolution\"], axis=1)\n",
    "\n",
    "    interpolatedMeters = np.arange(0, tripLength, tripLength/wantedPoints)\n",
    "    elevationPanda[\"meters\"] = interpolatedMeters[:wantedPoints] #rounding sometimes makes one value too much\n",
    "    return elevationPanda"
   ]
  },
  {
   "cell_type": "markdown",
   "metadata": {},
   "source": [
    "### Traverse all line data in gpkg and save elevation data for each trip"
   ]
  },
  {
   "cell_type": "code",
   "execution_count": 3,
   "metadata": {
    "tags": [
     "outputPrepend",
     "outputPrepend",
     "outputPrepend",
     "outputPrepend",
     "outputPrepend",
     "outputPrepend",
     "outputPrepend",
     "outputPrepend",
     "outputPrepend",
     "outputPrepend",
     "outputPrepend",
     "outputPrepend"
    ]
   },
   "outputs": [
    {
     "output_type": "stream",
     "name": "stdout",
     "text": "Trip=15715, Length=128893.90826165183m, FAIL!!!!!!\nTrip=9150, Length=326677.15904793073m, FAIL!!!!!!\nTrip=21782, Length=0.0m, FAIL!!!!!!\nTrip=18907, Length=0.0m, FAIL!!!!!!\nTrip=16993, Length=0.0m, FAIL!!!!!!\nTrip=22141, Length=0.0m, FAIL!!!!!!\nTrip=9277, Length=20967.02367993733m, FAIL!!!!!!\nTrip=22713, Length=19756.31651495097m, FAIL!!!!!!\nTrip=15230, Length=0.0m, FAIL!!!!!!\nTrip=18354, Length=0.0m, FAIL!!!!!!\nTrip=19838, Length=96744.95588350573m, FAIL!!!!!!\nTrip=19841, Length=65304.889449106966m, FAIL!!!!!!\nTrip=19833, Length=55514.3644483646m, FAIL!!!!!!\nTrip=20306, Length=0.0m, FAIL!!!!!!\nTrip=22814, Length=380332.1179628715m, FAIL!!!!!!\nTrip=23051, Length=661828.7643295493m, FAIL!!!!!!\nTrip=19843, Length=72624.80933609407m, FAIL!!!!!!\nTrip=20540, Length=450515.53367961716m, FAIL!!!!!!\nTrip=14421, Length=0.0m, FAIL!!!!!!\nTrip=16302, Length=0.0m, FAIL!!!!!!\nTrip=16349, Length=0.0m, FAIL!!!!!!\nTrip=15198, Length=0.0m, FAIL!!!!!!\nTrip=17161, Length=0.0m, FAIL!!!!!!\nTrip=19685, Length=0.0m, FAIL!!!!!!\nTrip=21981, Length=0.0m, FAIL!!!!!!\nTrip=19854, Length=73746.05503887744m, FAIL!!!!!!\nTrip=22948, Length=0.0m, FAIL!!!!!!\nTrip=19903, Length=80815.80332190935m, FAIL!!!!!!\nTrip=20229, Length=0.0m, FAIL!!!!!!\nTrip=20221, Length=0.0m, FAIL!!!!!!\nTrip=20228, Length=0.0m, FAIL!!!!!!\nTrip=21264, Length=4992.462402990647m, FAIL!!!!!!\nTrip=21432, Length=0.0m, FAIL!!!!!!\nTrip=21588, Length=0.0m, FAIL!!!!!!\nTrip=20487, Length=73515.96555293753m, FAIL!!!!!!\nTrip=15432, Length=0.0m, FAIL!!!!!!\n"
    }
   ],
   "source": [
    "for idx, trip in trips.iterrows():\n",
    "    tripLength = trip.geometry.length\n",
    "    tripId = trip.facilityId\n",
    "    tripCoordinates = trip.wgs84_geometry.coords\n",
    "    try:\n",
    "        googleElevations = getGoogleElevations(tripCoordinates, tripLength, 500)\n",
    "        googleElevations.to_csv(f\"data/elevation_{tripId}.csv\")  # Save elevation data to csv file\n",
    "    except:\n",
    "        print(f\"Trip={tripId}, Length={tripLength}m, FAIL!!!!!!\")"
   ]
  }
 ],
 "metadata": {
  "language_info": {
   "codemirror_mode": {
    "name": "ipython",
    "version": 3
   },
   "file_extension": ".py",
   "mimetype": "text/x-python",
   "name": "python",
   "nbconvert_exporter": "python",
   "pygments_lexer": "ipython3",
   "version": "3.8.2-final"
  },
  "orig_nbformat": 2,
  "kernelspec": {
   "name": "python38264bitgeoenvconda4962cc3e69614e0fad85cd504ae8a3c4",
   "display_name": "Python 3.8.2 64-bit ('geo_env': conda)"
  }
 },
 "nbformat": 4,
 "nbformat_minor": 2
}